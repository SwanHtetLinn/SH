{
  "nbformat": 4,
  "nbformat_minor": 0,
  "metadata": {
    "colab": {
      "provenance": []
    },
    "kernelspec": {
      "name": "python3",
      "display_name": "Python 3"
    },
    "language_info": {
      "name": "python"
    }
  },
  "cells": [
    {
      "cell_type": "code",
      "execution_count": 9,
      "metadata": {
        "colab": {
          "base_uri": "https://localhost:8080/"
        },
        "id": "PgQgFa2nbohR",
        "outputId": "02c473d8-eddb-4969-c06d-666b03d39ac1"
      },
      "outputs": [
        {
          "output_type": "stream",
          "name": "stdout",
          "text": [
            "Active Members: \n",
            "\n",
            "Membership No  Date Joined  Active  \n",
            "    51945      2015-4-10    yes   \n",
            "    88053      2016-2-19    yes   \n",
            "    49743      2020-4-12    yes   \n",
            "    21690      2016-11-19   yes   \n",
            "    43779      2020-6-9     yes   \n",
            "    42687      2017-9-12    yes   \n",
            "    70880      2020-3-7     yes   \n",
            "    46937      2016-6-24    yes   \n",
            "    37395      2019-4-6     yes   \n",
            "\n",
            "Inactive Members: \n",
            "\n",
            "    20364      2016-6-11    no    \n",
            "    49109      2016-4-12    no    \n",
            "    36642      2018-11-16   no    \n",
            "    32923      2020-4-25    no    \n",
            "    76363      2016-1-23    no    \n",
            "    54779      2016-6-24    no    \n",
            "    49827      2019-8-1     no    \n",
            "    21077      2016-3-25    no    \n",
            "    15432      2015-1-4     no    \n",
            "    63456      2020-2-11    no    \n",
            "    43411      2018-2-1     no    \n",
            "\n"
          ]
        }
      ],
      "source": [
        "def files (actmem, inmem): #actmem = active memvbers, inmem = inactive members\n",
        "\n",
        "  with open('members.txt', 'r') as file:\n",
        "    lines = file.readlines()\n",
        "   \n",
        "actmem = 'members.txt'\n",
        "inmem = 'inactive.txt'\n",
        "files(actmem, inmem)\n",
        "\n",
        "with open(actmem, 'r+') as file:\n",
        "        lines = file.readlines()\n",
        "        with open(inmem, 'a') as file1:\n",
        "            file.seek(0)\n",
        "            for line in lines:\n",
        "                if 'no' not in line:\n",
        "                    file.write(line)\n",
        "                else:\n",
        "                    file1.write(line)\n",
        "            file.truncate()\n",
        "\n",
        "headers = \"Membership No  Date Joined  Status  \\n\"\n",
        "with open(actmem,'r') as readFile:\n",
        "    print(\"Active Members: \\n\")\n",
        "    print(readFile.read())\n",
        "\n",
        "with open(inmem,'r') as readFile:\n",
        "    print(\"Inactive Members: \\n\")\n",
        "    print(readFile.read())"
      ]
    },
    {
      "cell_type": "code",
      "source": [],
      "metadata": {
        "id": "SxmM3m8Pb5tk"
      },
      "execution_count": null,
      "outputs": []
    }
  ]
}